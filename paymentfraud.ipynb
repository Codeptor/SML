{
  "cells": [
    {
      "cell_type": "code",
      "execution_count": null,
      "metadata": {
        "id": "GGyDovL2QDLa"
      },
      "outputs": [],
      "source": [
        "import pandas as pd\n",
        "import numpy as np\n",
        "import seaborn as sns                       #visualisation\n",
        "import matplotlib.pyplot as plt\n",
        "from sklearn.feature_selection import chi2      #visualisation\n",
        "%matplotlib inline\n",
        "sns.set(color_codes=True)\n",
        "import scipy.stats as stats"
      ]
    },
    {
      "cell_type": "code",
      "execution_count": null,
      "metadata": {
        "colab": {
          "base_uri": "https://localhost:8080/",
          "height": 206
        },
        "id": "0oVZnezwQ159",
        "outputId": "b6d2f838-1cc5-49c1-9017-0d834388c6c1"
      },
      "outputs": [],
      "source": [
        "df = pd.read_csv(\"onlinefraud.csv\")\n",
        "df.head(5)"
      ]
    },
    {
      "cell_type": "code",
      "execution_count": null,
      "metadata": {
        "colab": {
          "base_uri": "https://localhost:8080/",
          "height": 206
        },
        "id": "2YFPdDmhL1fS",
        "outputId": "db5492a0-bc6f-4d11-e8b9-028a5a424f41"
      },
      "outputs": [],
      "source": [
        "df = df.drop(['step','amount','nameOrig','oldbalanceOrg','newbalanceOrig','nameDest','oldbalanceDest','newbalanceDest','isFlaggedFraud'], axis=1)\n",
        "df.head(5)"
      ]
    },
    {
      "cell_type": "code",
      "execution_count": null,
      "metadata": {
        "colab": {
          "base_uri": "https://localhost:8080/"
        },
        "id": "WUdUWcYwP-M4",
        "outputId": "2ca2d617-914d-4427-caf5-f891604fb83b"
      },
      "outputs": [],
      "source": [
        "total=df.count()['type']\n",
        "print(total)"
      ]
    },
    {
      "cell_type": "code",
      "execution_count": null,
      "metadata": {
        "colab": {
          "base_uri": "https://localhost:8080/"
        },
        "id": "MJv4h50fNwjd",
        "outputId": "06677215-984c-4e5b-cbca-60738772da14"
      },
      "outputs": [],
      "source": [
        "data_whole={}\n",
        "for i in df.type.unique():\n",
        "  data_whole[i]=df[df['type']==i].count()['type']\n",
        "print(data_whole)"
      ]
    },
    {
      "cell_type": "code",
      "execution_count": null,
      "metadata": {
        "colab": {
          "base_uri": "https://localhost:8080/"
        },
        "id": "ZumzCwwpLj8K",
        "outputId": "52f518f5-d883-460c-af24-d19d33155d3e"
      },
      "outputs": [],
      "source": [
        "data_fraud={}\n",
        "fraud_df=df[df['isFraud']==1]\n",
        "for i in fraud_df.type.unique():\n",
        "  data_fraud[i]=fraud_df[fraud_df['type']==i].count()['type']\n",
        "print(data_fraud)"
      ]
    },
    {
      "cell_type": "code",
      "execution_count": null,
      "metadata": {
        "colab": {
          "base_uri": "https://localhost:8080/"
        },
        "id": "rpcPsyxOPdlT",
        "outputId": "9e163d31-c066-4c54-ced5-9de5b20c74a8"
      },
      "outputs": [],
      "source": [
        "whole_ratios={}\n",
        "for i in data_whole.keys():\n",
        "  whole_ratios[i]=data_whole[i]/total\n",
        "print(whole_ratios)"
      ]
    },
    {
      "cell_type": "code",
      "execution_count": null,
      "metadata": {
        "colab": {
          "base_uri": "https://localhost:8080/"
        },
        "id": "o8lx6NaQWHNp",
        "outputId": "190e1ab8-8818-4053-d6db-e594853133d9"
      },
      "outputs": [],
      "source": [
        "whole_ratios.pop('PAYMENT')\n",
        "whole_ratios.pop('DEBIT')\n",
        "whole_ratios.pop('CASH_IN')"
      ]
    },
    {
      "cell_type": "code",
      "execution_count": null,
      "metadata": {
        "colab": {
          "base_uri": "https://localhost:8080/"
        },
        "id": "9bGsICcZQbQg",
        "outputId": "2bded2a1-f0a8-4a54-d966-52e5b0229eea"
      },
      "outputs": [],
      "source": [
        "total_fraud=df[df['isFraud']==1].count()['type']\n",
        "print(total_fraud)"
      ]
    },
    {
      "cell_type": "code",
      "execution_count": null,
      "metadata": {
        "colab": {
          "base_uri": "https://localhost:8080/"
        },
        "id": "3SC4-rkzWWED",
        "outputId": "63dc9185-df68-466a-cb3a-5692ff765a63"
      },
      "outputs": [],
      "source": [
        "print(whole_ratios)"
      ]
    },
    {
      "cell_type": "code",
      "execution_count": null,
      "metadata": {
        "colab": {
          "base_uri": "https://localhost:8080/"
        },
        "id": "G6wYQYjRQTjr",
        "outputId": "ca15c0b5-26c4-4977-e3be-3740c420f8ba"
      },
      "outputs": [],
      "source": [
        "fraud_ratios={}\n",
        "for i in data_fraud.keys():\n",
        "  fraud_ratios[i]=data_fraud[i]/total_fraud\n",
        "print(fraud_ratios)"
      ]
    },
    {
      "cell_type": "code",
      "execution_count": null,
      "metadata": {
        "colab": {
          "base_uri": "https://localhost:8080/"
        },
        "id": "jZKP16xoQkbt",
        "outputId": "9aedd32a-4a76-4d9e-9450-637ee8ed3d15"
      },
      "outputs": [],
      "source": [
        "print(fraud_ratios)"
      ]
    },
    {
      "cell_type": "code",
      "execution_count": null,
      "metadata": {
        "colab": {
          "base_uri": "https://localhost:8080/",
          "height": 233
        },
        "id": "I1hCe_akTetk",
        "outputId": "7a61df41-39e6-41c8-eb1b-01c1df738b7a"
      },
      "outputs": [],
      "source": [
        "final=0\n",
        "for i in whole_ratios.keys():\n",
        "  final+=((fraud_ratios[i]-whole_ratios[i])**2)/whole_ratios[i]\n",
        "print(final)"
      ]
    },
    {
      "cell_type": "code",
      "execution_count": null,
      "metadata": {
        "colab": {
          "base_uri": "https://localhost:8080/",
          "height": 251
        },
        "id": "Hzt3hBmGTuvX",
        "outputId": "68aac164-648b-402c-f1b5-b2b45db44073"
      },
      "outputs": [],
      "source": [
        "crit=stats.chi2.ppf(q=0.95, df=1)\n",
        "print(crit)\n",
        "p_value = 1 - stats.chi2.cdf(x=final, df =1)\n",
        "print(p_value)"
      ]
    },
    {
      "cell_type": "code",
      "execution_count": null,
      "metadata": {
        "colab": {
          "base_uri": "https://localhost:8080/",
          "height": 708
        },
        "id": "iSnw5RYyi2l6",
        "outputId": "1922d832-b4f3-45a1-abc2-e2484f6a5682"
      },
      "outputs": [],
      "source": [
        "plt.figure(figsize=(15,6))\n",
        "sns.displot(df['step'],bins=100)"
      ]
    },
    {
      "cell_type": "code",
      "execution_count": null,
      "metadata": {
        "colab": {
          "base_uri": "https://localhost:8080/",
          "height": 778
        },
        "id": "AmVuGCL687k0",
        "outputId": "ca031a58-7029-4a03-b08a-96664d400480"
      },
      "outputs": [],
      "source": [
        "plt.figure(figsize=(15,6))\n",
        "sns.distplot(df[df['isFraud']==1]['step'],bins=100)"
      ]
    },
    {
      "cell_type": "code",
      "execution_count": null,
      "metadata": {
        "colab": {
          "base_uri": "https://localhost:8080/",
          "height": 206
        },
        "id": "uvSkK8swTr9H",
        "outputId": "47965986-ea7f-4f8f-fe38-dc05edd6ba74"
      },
      "outputs": [],
      "source": [
        "df = df.drop(['type','nameOrig', 'nameDest','isFlaggedFraud','step'], axis=1)\n",
        "df.head(5)"
      ]
    },
    {
      "cell_type": "code",
      "execution_count": null,
      "metadata": {
        "colab": {
          "base_uri": "https://localhost:8080/"
        },
        "id": "NAkjIgHRb9uQ",
        "outputId": "5005df44-dd56-4cb6-9b45-eaf5ae1e621d"
      },
      "outputs": [],
      "source": [
        "print(df[df['isFraud']==1])"
      ]
    },
    {
      "cell_type": "code",
      "execution_count": null,
      "metadata": {
        "colab": {
          "base_uri": "https://localhost:8080/",
          "height": 549
        },
        "id": "wsx6g_1zhU2j",
        "outputId": "eec0ad32-0dc5-40b5-d117-dcb117c60d02"
      },
      "outputs": [],
      "source": [
        "average_original_balance = df[df['isFraud'] == 0]['oldbalanceOrg'].mean()\n",
        "average_new_balance = df[df['isFraud'] == 1]['newbalanceOrig'].mean()\n",
        "\n",
        "std_original_balance = df[df['isFraud'] == 0]['oldbalanceOrg'].std()\n",
        "std_new_balance = df[df['isFraud'] == 1]['newbalanceOrig'].std()\n",
        "\n",
        "plt.figure(figsize=(8, 6))\n",
        "plt.bar(['Before Fraud', 'After Fraud'], [average_original_balance, average_new_balance], yerr=[std_original_balance, std_new_balance], capsize=10)\n",
        "plt.title('Average Balance Before and After Fraud')\n",
        "plt.ylabel('Average Balance')\n",
        "plt.show()"
      ]
    },
    {
      "cell_type": "code",
      "execution_count": null,
      "metadata": {
        "colab": {
          "base_uri": "https://localhost:8080/",
          "height": 281
        },
        "id": "1RdgtssrhrtX",
        "outputId": "91dd05c4-0062-4689-ad9b-469649116497"
      },
      "outputs": [],
      "source": [
        "plt.figure(figsize=(4, 2))\n",
        "sns.scatterplot(x='isFraud', y='oldbalanceOrg', data=df, alpha=0.5)\n",
        "plt.title('Categorical Scatter Plot of Balance Changes Before Fraud')\n",
        "plt.xlabel('Is Fraud')\n",
        "plt.ylabel('Balance Change')\n",
        "plt.xticks([0, 1], ['Not Fraud', 'Fraud'])\n",
        "plt.show()"
      ]
    },
    {
      "cell_type": "code",
      "execution_count": null,
      "metadata": {
        "colab": {
          "base_uri": "https://localhost:8080/",
          "height": 575
        },
        "id": "0xSbEPRMh0-e",
        "outputId": "772a6751-8a5a-4376-cd5d-c37f39d8a782"
      },
      "outputs": [],
      "source": [
        "cc = []\n",
        "nc = []\n",
        "\n",
        "for i in df.columns:\n",
        "    if df[i].dtype == 'object':\n",
        "        cc.append(i)\n",
        "    else:\n",
        "        nc.append(i)\n",
        "df[cc].value_counts().plot(kind='bar')"
      ]
    },
    {
      "cell_type": "code",
      "execution_count": null,
      "metadata": {
        "colab": {
          "base_uri": "https://localhost:8080/",
          "height": 559
        },
        "id": "lP1kUYmu75hW",
        "outputId": "4d80c9ae-1f4c-487b-aba3-24265e6a9788"
      },
      "outputs": [],
      "source": [
        "cc = []\n",
        "nc = []\n",
        "\n",
        "df=df[df['isFraud']==1]\n",
        "for i in df.columns:\n",
        "    if df[i].dtype == 'object':\n",
        "        cc.append(i)\n",
        "    else:\n",
        "        nc.append(i)\n",
        "df[cc].value_counts().plot(kind='bar')"
      ]
    },
    {
      "cell_type": "code",
      "execution_count": null,
      "metadata": {
        "colab": {
          "base_uri": "https://localhost:8080/",
          "height": 815
        },
        "id": "Pw-ZrTNjdMKa",
        "outputId": "50e32304-0aee-456e-bd7d-5e241286cf40"
      },
      "outputs": [],
      "source": [
        "correlation_matrix = df[nc].corr()\n",
        "mask = np.triu(np.ones_like(correlation_matrix, dtype=bool))\n",
        "plt.figure(figsize=(10, 8))\n",
        "sns.heatmap(correlation_matrix, annot=True, cmap='coolwarm', mask=mask)\n",
        "plt.title('Correlation Heatmap (Upper Triangle)')\n",
        "plt.show()"
      ]
    },
    {
      "cell_type": "code",
      "execution_count": null,
      "metadata": {
        "colab": {
          "base_uri": "https://localhost:8080/"
        },
        "id": "syRnEkpieNtv",
        "outputId": "0c97b9cd-a558-4805-fa39-724dad6d437a"
      },
      "outputs": [],
      "source": [
        "print(df.mean(numeric_only=True))\n",
        "normal_amount_mean = df.mean(numeric_only=True)['amount']\n",
        "print(normal_amount_mean)\n",
        "print(\"____\")\n",
        "print(df.median(numeric_only=True))\n",
        "print(\"____\")\n",
        "print(df.mode(numeric_only=True))"
      ]
    },
    {
      "cell_type": "code",
      "execution_count": null,
      "metadata": {
        "colab": {
          "base_uri": "https://localhost:8080/"
        },
        "id": "I823WftJET18",
        "outputId": "7891f988-4bbb-4b58-c461-1cacfacef7ab"
      },
      "outputs": [],
      "source": [
        "stats.ttest_1samp(a=df[df['isFraud']==1]['amount'].array, popmean= normal_amount_mean)"
      ]
    },
    {
      "cell_type": "code",
      "execution_count": null,
      "metadata": {
        "colab": {
          "base_uri": "https://localhost:8080/"
        },
        "id": "D0m9rmBhejKW",
        "outputId": "5661ffc7-68f9-4272-bb47-d9845910517b"
      },
      "outputs": [],
      "source": [
        "print(df[df['isFraud']==1].mean(numeric_only=True))\n",
        "fraud_amount_mean = df.mean(numeric_only=True)['amount']\n",
        "print(fraud_amount_mean)\n",
        "print(df[df['isFraud']==1]['amount'].array)\n",
        "print(\"____\")\n",
        "print(df[df['isFraud']==1].median(numeric_only=True))\n",
        "print(\"____\")\n",
        "print(df[df['isFraud']==1].mode(numeric_only=True))"
      ]
    },
    {
      "cell_type": "code",
      "execution_count": null,
      "metadata": {
        "colab": {
          "base_uri": "https://localhost:8080/"
        },
        "id": "m2C0XrXrPGcu",
        "outputId": "42e83ca3-1c74-4fe7-b430-8ebec96c9031"
      },
      "outputs": [],
      "source": [
        "data={}\n",
        "for i in df['type'].unique():\n",
        "  print(i,\":\",df[df['type']==i].mean(numeric_only=True)['amount'])\n",
        "  data[i]=df[df['type']==i].mean(numeric_only=True)['amount']\n"
      ]
    },
    {
      "cell_type": "code",
      "execution_count": null,
      "metadata": {
        "colab": {
          "base_uri": "https://localhost:8080/",
          "height": 435
        },
        "id": "y733tEJLP57G",
        "outputId": "f828116f-bac7-4dba-d559-9e810018325a"
      },
      "outputs": [],
      "source": [
        "import matplotlib.pyplot as plt\n",
        "names = list(data.keys())\n",
        "values = list(data.values())\n",
        "\n",
        "plt.bar(range(len(data)), values, tick_label=names)\n",
        "plt.show()"
      ]
    }
  ],
  "metadata": {
    "colab": {
      "provenance": []
    },
    "kernelspec": {
      "display_name": "Python 3",
      "name": "python3"
    },
    "language_info": {
      "codemirror_mode": {
        "name": "ipython",
        "version": 3
      },
      "file_extension": ".py",
      "mimetype": "text/x-python",
      "name": "python",
      "nbconvert_exporter": "python",
      "pygments_lexer": "ipython3",
      "version": "3.11.5"
    }
  },
  "nbformat": 4,
  "nbformat_minor": 0
}
